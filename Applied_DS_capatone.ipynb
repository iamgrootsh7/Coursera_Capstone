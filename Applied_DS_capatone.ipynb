{
  "nbformat": 4,
  "nbformat_minor": 0,
  "metadata": {
    "colab": {
      "name": "Applied DS capatone.ipynb",
      "provenance": [],
      "collapsed_sections": [],
      "authorship_tag": "ABX9TyPtEhzTX+d75InoVQLy63qX",
      "include_colab_link": true
    },
    "kernelspec": {
      "name": "python3",
      "display_name": "Python 3"
    },
    "language_info": {
      "name": "python"
    }
  },
  "cells": [
    {
      "cell_type": "markdown",
      "metadata": {
        "id": "view-in-github",
        "colab_type": "text"
      },
      "source": [
        "<a href=\"https://colab.research.google.com/github/iamgrootsh7/Coursera_Capstone/blob/main/Applied_DS_capatone.ipynb\" target=\"_parent\"><img src=\"https://colab.research.google.com/assets/colab-badge.svg\" alt=\"Open In Colab\"/></a>"
      ]
    },
    {
      "cell_type": "markdown",
      "metadata": {
        "id": "u7CH0wABH8jK"
      },
      "source": [
        "<h1><b> Applied DataScience Capstone \n",
        "Project </b></h1>"
      ]
    },
    {
      "cell_type": "markdown",
      "metadata": {
        "id": "211NtQ00HiIt"
      },
      "source": [
        "<b> This notebook will be used to do the Data Science Capstone project for the IBM Data Science Professional certificate </b>"
      ]
    },
    {
      "cell_type": "code",
      "metadata": {
        "colab": {
          "base_uri": "https://localhost:8080/"
        },
        "id": "qpw-LaFgHNIS",
        "outputId": "b946e822-396b-4008-c1ee-8db08abb0c29"
      },
      "source": [
        "import pandas as pd\n",
        "import numpy as np \n",
        "print(\"Hello Capstone Project Course!\")"
      ],
      "execution_count": 1,
      "outputs": [
        {
          "output_type": "stream",
          "text": [
            "Hello Capstone Project Course!\n"
          ],
          "name": "stdout"
        }
      ]
    },
    {
      "cell_type": "code",
      "metadata": {
        "id": "fgfsbs7iIT6C"
      },
      "source": [
        ""
      ],
      "execution_count": null,
      "outputs": []
    }
  ]
}